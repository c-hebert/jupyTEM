{
 "cells": [
  {
   "cell_type": "markdown",
   "metadata": {},
   "source": [
    "# Ewald Sphere\n",
    "\n",
    "Play with the Ewald Sphere\n",
    "\n",
    "This schematics represent the Ewald sphere for a typical high tension of 200 kV and a 1D crystal with lattice parameter 2.5 Angstrom where 100 is a forbiden reflexion, hence the first reflexion is 200. \n",
    "\n",
    "The sample and the beam can be tilted between -40 and +40 miliradians\n",
    "\n",
    "With those (very typical) numbers, the skech is hard to interpret as the angles are small and the reciprocal latice parameter small compared to the wave vector. \n",
    "\n",
    "Therefore, the schematics is usualy done in an exagerated way. This can be modelized with the \"scaling\" parameter. With this parameter, the wave vector is divided by scaling and the beam tilt and sample tilt are multiplied by scaling (in order to keep the represantation of the same diffraction conditions, i.e. a 2 beam case remains a 2-beam case.\n",
    "\n",
    "You can try to set up a 2-beam case in Bright field (beam tilt =0) by tilting the specimen, and then find the right beam tilt for the dark field condition "
   ]
  },
  {
   "cell_type": "code",
   "execution_count": null,
   "metadata": {},
   "outputs": [],
   "source": [
    "import numpy as np\n",
    "\n",
    "from ipywidgets import interact, interactive, fixed, interact_manual\n",
    "import ipywidgets as widgets\n",
    "\n",
    "import bokeh\n",
    "from bokeh.io import push_notebook, show, output_notebook\n",
    "from bokeh.plotting import figure\n",
    "output_notebook()\n",
    "\n",
    "from bokeh.models.glyphs import Patch\n"
   ]
  },
  {
   "cell_type": "code",
   "execution_count": null,
   "metadata": {},
   "outputs": [],
   "source": [
    "# universal constants\n",
    "h=6.626*10**(-34) #plank's constant J.s\n",
    "me=9.109*10**(-31) #electron's mass kg (m_0)\n",
    "mecsquared=511 # electron's rest mass in keV (m_0*c^2)\n",
    "electron=1.602*10**(-19)# electron's charge"
   ]
  },
  {
   "cell_type": "code",
   "execution_count": null,
   "metadata": {},
   "outputs": [],
   "source": [
    "#electron's wavelength in nm for an acceleration voltage  in kV  (relativistic)\n",
    "def lamb(Voltage):\n",
    "    l=10**9*h/np.sqrt(2*me*Voltage*1000*electron)*(1+Voltage/(2*mecsquared))**(-0.5)\n",
    "    return l"
   ]
  },
  {
   "cell_type": "code",
   "execution_count": null,
   "metadata": {},
   "outputs": [],
   "source": [
    "def k(E,scale):\n",
    "    k = 1/(lamb(E)*scale)\n",
    "    return k"
   ]
  },
  {
   "cell_type": "code",
   "execution_count": null,
   "metadata": {},
   "outputs": [],
   "source": [
    "# Crystal lattice parameter a\n",
    "# as an example 001 orientation fcc first G is 200 (very typical case)\n",
    "# We use -2G, -G, 0 G & 2G, 5 beams\n",
    "\n",
    "Gs = np.array([-4.0, -3.0, -2.0, -1.0, 0.0, 1.0, 2.0, 3.0, 4.0 ])\n",
    "a = 0.25 # 0.25nm\n",
    "recip_x = (2/a)*Gs\n"
   ]
  },
  {
   "cell_type": "code",
   "execution_count": null,
   "metadata": {},
   "outputs": [],
   "source": [
    "# incident wave vector end point depends on scale, E and theta_beam\n",
    "def ki_endx(E,scale,tilt):\n",
    "    ki_endx = k(E,scale)*np.sin(scale*tilt*10**(-3))\n",
    "    return ki_endx\n",
    "\n",
    "def ki_endy(E,scale,tilt):\n",
    "    ki_endy = -k(E,scale)*np.cos(scale*tilt*10**(-3))\n",
    "    return ki_endy\n",
    "\n",
    "def kix(E,scale,tilt):\n",
    "    kix = np.array([0,ki_endx(E,scale,tilt)])\n",
    "    return kix\n",
    "\n",
    "def kiy(E,scale,tilt):\n",
    "    kiy = np.array([0,ki_endy(E,scale,tilt)])\n",
    "    return kiy\n"
   ]
  },
  {
   "cell_type": "code",
   "execution_count": null,
   "metadata": {},
   "outputs": [],
   "source": [
    "def Ewald_angles(scale,tilt):\n",
    "    ewa = np.linspace(np.pi + ((scale*tilt+400)*10**(-3)),2*np.pi + (scale*tilt-400)*10**(-3),2000)\n",
    "    return ewa"
   ]
  },
  {
   "cell_type": "markdown",
   "metadata": {},
   "source": [
    "## First interactive figure: diffraction condition"
   ]
  },
  {
   "cell_type": "code",
   "execution_count": null,
   "metadata": {},
   "outputs": [],
   "source": [
    "E = 200\n",
    "scale = 10\n",
    "beam_tilt = 20\n",
    "sample_tilt = 20\n",
    "es = figure(title=\"Ewald Sphere.  Beam changes the beam tilt in mrad; sample changes the sample tilt im mrad. 10mrad = 0.57 degree\", height=400, width=800,match_aspect=True)\n",
    "l0 = es.line([0,0],[k(E,scale)/10,-1.2*k(E,scale)], line_width=1,color=\"black\")\n",
    "l1 = es.line(k(E,scale)*np.cos(Ewald_angles(scale,beam_tilt)),k(E,scale)*np.sin(Ewald_angles(scale,beam_tilt)),legend_label=\"Ewald Sphere\", line_width=2.5)\n",
    "l2 = es.line(kix(E,scale,beam_tilt),kiy(E,scale,beam_tilt),legend_label=\"incident beam\", line_width=2.5,color=\"red\")\n",
    "p3 = es.circle(recip_x*np.cos(sample_tilt*10**(-3)) + ki_endx(E,scale,beam_tilt) ,\n",
    "               recip_x*np.sin(sample_tilt*10**(-3)) + ki_endy(E,scale,beam_tilt) ,\n",
    "               legend_label=\"reciprocal lattice\", line_width=3.5,color=\"green\")\n",
    "\n",
    "es.legend.location = \"bottom_left\"\n",
    "#show(es)\n",
    "\n",
    "\n",
    "def update(scale = 1, beam_tilt = 20, sample_tilt = 20 ):\n",
    "    l2.data_source.data['x']=kix(E,scale,beam_tilt)\n",
    "    l2.data_source.data['y']=kiy(E,scale,beam_tilt)\n",
    "    l1.data_source.data['x']=k(E,scale)*np.cos(Ewald_angles(scale,beam_tilt))\n",
    "    l1.data_source.data['y']=k(E,scale)*np.sin(Ewald_angles(scale,beam_tilt))\n",
    "    l0.data_source.data['y']=[k(E,scale)/10,-1.2*k(E,scale)]\n",
    "    p3.data_source.data['x']=recip_x*np.cos(scale*sample_tilt*10**(-3)) + ki_endx(E,scale,beam_tilt)\n",
    "    p3.data_source.data['y']=recip_x*np.sin(scale*sample_tilt*10**(-3)) + ki_endy(E,scale,beam_tilt)\n",
    "   \n",
    "    \n",
    "#    l2.data_source.data['y']=eps2(omegap,gamma,omegas)\n",
    "#    l3.data_source.data['y']=lossfunction(omegap,gamma,omegas)\n",
    "    push_notebook()\n",
    "    \n",
    "es.legend.click_policy=\"hide\"    \n",
    "show(es, notebook_handle=True)\n",
    "\n",
    "interact(update, \\\n",
    "         scale=widgets.IntSlider(min=1,max=10,value=1,description=\"scale\"), \\\n",
    "        beam_tilt=widgets.IntSlider(min=-40,max=40,value=0,description=\"Beam\"), \\\n",
    "       sample_tilt=widgets.IntSlider(min=-40,max=40,value=0,description=\"sample\"));\n",
    "\n"
   ]
  },
  {
   "cell_type": "markdown",
   "metadata": {},
   "source": [
    "## Second interactive figure: first order Laue zone"
   ]
  },
  {
   "cell_type": "code",
   "execution_count": null,
   "metadata": {},
   "outputs": [],
   "source": [
    "E = 200\n",
    "scale = 1\n",
    "beam_tilt = 0\n",
    "sample_tilt = 0\n",
    "es = figure(title=\"Ewald Sphere.  Beam changes the beam tilt in mrad; sample changes the sample tilt im mrad. 10mrad = 0.57 degree\", height=400, width=800,match_aspect=True)\n",
    "l0 = es.line([0,0],[k(E,scale)/10,-1.2*k(E,scale)], line_width=1,color=\"black\")\n",
    "l1 = es.line(k(E,scale)*np.cos(Ewald_angles(scale,beam_tilt)),k(E,scale)*np.sin(Ewald_angles(scale,beam_tilt)),legend_label=\"Ewald Sphere\", line_width=2.5)\n",
    "l2 = es.line(kix(E,scale,beam_tilt),kiy(E,scale,beam_tilt),legend_label=\"incident beam\", line_width=2.5,color=\"red\")\n",
    "p3 = es.circle(recip_x*np.cos(scale*sample_tilt*10**(-3)) + ki_endx(E,scale,beam_tilt) ,\n",
    "               recip_x*np.sin(scale*sample_tilt*10**(-3)) + ki_endy(E,scale,beam_tilt) ,\n",
    "               legend_label=\"ZOLZ\", line_width=3.5,color=\"green\")\n",
    "p4 = es.circle(recip_x*np.cos(scale*sample_tilt*10**(-3)) + ki_endx(E,scale,beam_tilt) - 2/a*np.sin(scale*sample_tilt*10**(-3)) ,\n",
    "               recip_x*np.sin(scale*sample_tilt*10**(-3)) + ki_endy(E,scale,beam_tilt) + 2/a*np.cos(scale*sample_tilt*10**(-3)),\n",
    "               legend_label=\"FOLZ\", line_width=1.5,color=\"black\")\n",
    "\n",
    "es.legend.location = \"bottom_left\"\n",
    "#show(es)\n",
    "\n",
    "\n",
    "def update(scale = 1, beam_tilt = 20, sample_tilt = 20 ):\n",
    "    l2.data_source.data['x']=kix(E,scale,beam_tilt)\n",
    "    l2.data_source.data['y']=kiy(E,scale,beam_tilt)\n",
    "    l1.data_source.data['x']=k(E,scale)*np.cos(Ewald_angles(scale,beam_tilt))\n",
    "    l1.data_source.data['y']=k(E,scale)*np.sin(Ewald_angles(scale,beam_tilt))\n",
    "    l0.data_source.data['y']=[k(E,scale)/10,-1.2*k(E,scale)]\n",
    "    p3.data_source.data['x']=recip_x*np.cos(scale*sample_tilt*10**(-3)) + ki_endx(E,scale,beam_tilt)\n",
    "    p3.data_source.data['y']=recip_x*np.sin(scale*sample_tilt*10**(-3)) + ki_endy(E,scale,beam_tilt)\n",
    "    p4.data_source.data['x']=recip_x*np.cos(scale*sample_tilt*10**(-3)) + ki_endx(E,scale,beam_tilt) - 2/a*np.sin(scale*sample_tilt*10**(-3))\n",
    "    p4.data_source.data['y']=recip_x*np.sin(scale*sample_tilt*10**(-3)) + ki_endy(E,scale,beam_tilt) + 2/a*np.cos(scale*sample_tilt*10**(-3))\n",
    "   \n",
    "    \n",
    "#    l2.data_source.data['y']=eps2(omegap,gamma,omegas)\n",
    "#    l3.data_source.data['y']=lossfunction(omegap,gamma,omegas)\n",
    "    push_notebook()\n",
    "    \n",
    "es.legend.click_policy=\"hide\"    \n",
    "show(es, notebook_handle=True)\n",
    "\n",
    "interact(update, \\\n",
    "         scale=widgets.IntSlider(min=1,max=10,value=1,description=\"scale\"), \\\n",
    "        beam_tilt=widgets.IntSlider(min=-40,max=40,value=0,description=\"Beam\"), \\\n",
    "       sample_tilt=widgets.IntSlider(min=-40,max=40,value=0,description=\"sample\"));\n"
   ]
  },
  {
   "cell_type": "markdown",
   "metadata": {},
   "source": [
    "## Excitation error in 2-beam condition\n",
    "\n",
    "In This part we will investigate the effect of excitation error and sample thickness on the intensity of the diffraction spots."
   ]
  },
  {
   "cell_type": "markdown",
   "metadata": {},
   "source": [
    "We stick to the case of a crystal with lattice parameter a=2.5 Angstrom, first non forbidden G is 200.\n",
    "\n",
    "We will concentrate on the central beam (000) and $G_{200}$ which is the first diffracted beam  and consider a 2-beam condidtion.\n",
    "\n",
    "We first need the Bragg angle (in radians) for $G_{200}$. \n",
    "$$d_{200}=a/2$$. \n",
    "$$\\theta_B(E)=\\frac{\\lambda}{2 d_{hkl}} = \\frac{\\lambda}{2 d_{200}}  = \\frac{\\lambda(E)}{a}$$\n",
    "\n",
    "Then we have to tilt the sample by $\\theta_B$ to reach a 2-beam condition.\n",
    "\n",
    "Moreover, we fix the energy of the electron beam at 200 keV. \n",
    "\n",
    "All angles are in miliradians!"
   ]
  },
  {
   "cell_type": "code",
   "execution_count": null,
   "metadata": {},
   "outputs": [],
   "source": [
    "#Bragg angle for the 200 spot as a function of energy in miliradians\n",
    "def thetaB(E):\n",
    "    tB = 1000* lamb(E)/a\n",
    "    return tB"
   ]
  },
  {
   "cell_type": "markdown",
   "metadata": {},
   "source": [
    "If we tilt away from  exact Bragg conditions by $\\Delta \\theta$, we get the excitation error or deviation parameter $s$:\n",
    "    $$s=\\frac{\\Delta \\theta}{d_{200}} = \\frac{2 \\Delta \\theta}{a}$$\n",
    "    \n",
    "   $$\\Delta\\theta = \\frac{s a}{2}$$"
   ]
  },
  {
   "cell_type": "code",
   "execution_count": null,
   "metadata": {},
   "outputs": [],
   "source": [
    "def Delta_theta(s): # in milliradians\n",
    "    delthe = - 1000 * s *a /2\n",
    "    return delthe"
   ]
  },
  {
   "cell_type": "markdown",
   "metadata": {},
   "source": [
    "The extinction distance, $\\xi_g$ is given for a specific G. It depends on the scattering properties of the specimen (atomic number) but also on the considered scattering angle (G), and the energy of the electrons. It can range between 10 to some 100 of nm, and a simulation software like JEMS will calculate it. \n",
    "\n",
    "In our demonstration, we will not make any attempt to calculate it, and we will take it as a variable parameter, but keep in mind that it it is a material + TEM (energy) related parameter!\n",
    "\n",
    "With the excitation error and extinction distance, we can calculate the intensity seen in the diffracted spot G\n",
    "\n",
    "$$I_g(t)=\\frac{1}{1+\\xi_g^2s^2}\\sin^2\\left[\\pi t \\sqrt{\\frac{1}{\\xi_g^2}+s^2}\\right]$$"
   ]
  },
  {
   "cell_type": "code",
   "execution_count": null,
   "metadata": {},
   "outputs": [],
   "source": [
    "def I_G(xiG,s,t):\n",
    "    ig1 = np.sqrt(s**2 +1/xiG**2)\n",
    "    ig2 =  np.pi * t * ig1\n",
    "    ig3 = (np.sin(ig2))**2\n",
    "    ig4 = 1/(1+ xiG**2 * s**2) * ig3\n",
    "    return ig4"
   ]
  },
  {
   "cell_type": "markdown",
   "metadata": {},
   "source": [
    "$I_g$ can be plotted as a function of $\\Delta\\theta$ or $s$. Here we chose to plot it as function of $s$. You can see how it changes when you adjust extinction length and sample thickness."
   ]
  },
  {
   "cell_type": "code",
   "execution_count": null,
   "metadata": {},
   "outputs": [],
   "source": [
    "# IG can be plotted as a function of delta theta or s here we plot it as a function of s \n",
    "dT = np.linspace(-10*thetaB(E),10*thetaB(E),10000)\n",
    "ds = 2  * dT / (1000 * a)\n",
    "\n",
    "\n",
    "xiG = 50\n",
    "t = 100\n",
    "\n",
    "f = figure(title=\"Intensity seen in the 200 diffraction spot.\", height=400, width=800)\n",
    "l0 = f.line(ds,I_G(xiG,ds,t), line_width=2.5,color=\"orange\")\n",
    "\n",
    "f.xaxis.axis_label = 'excitation error s (1/nm)'\n",
    "f.yaxis.axis_label = 'Relative intensity. '\n",
    "\n",
    "\n",
    "#f.legend.location = \"bottom_left\"\n",
    "#show(f)\n",
    "\n",
    "def update3(xiG = 50, thickness = 25):\n",
    "    l0.data_source.data['y'] = I_G(xiG,ds,thickness)\n",
    "   \n",
    "    push_notebook()\n",
    "    \n",
    "#es.legend.click_policy=\"hide\"    \n",
    "show(f, notebook_handle=True)\n",
    "\n",
    "interact(update3, \\\n",
    "         xiG = widgets.IntSlider(min=10,max=200,value=50,description=\"xiG\"), \\\n",
    "       thickness = widgets.IntSlider(min = 1 , max = 1000 ,value = 100,description=\"thickness\"));\n"
   ]
  },
  {
   "cell_type": "markdown",
   "metadata": {},
   "source": [
    "## In the next plot, we combine this curve with the Ewald Sphere"
   ]
  },
  {
   "cell_type": "markdown",
   "metadata": {},
   "source": [
    "We need to rotate the representation of the diffracted beam intensity. The rotation is not strightforward, there is the beam tilt plus an additional angle $\\alpha$ linked to the fact that we point towards G. Triangles are not rectangular, and if we want to be able to do a scaled representation for better visibility, small angles approximation isn't an option..."
   ]
  },
  {
   "cell_type": "code",
   "execution_count": null,
   "metadata": {},
   "outputs": [],
   "source": [
    "from IPython.display import Image\n",
    "Image(\"Ewald_1.jpg\")"
   ]
  },
  {
   "cell_type": "code",
   "execution_count": null,
   "metadata": {},
   "outputs": [],
   "source": [
    "# rot takes sample tilt in mrad but returns an angle in radians\n",
    "def rot(ee,sample_tilt,E,scale): # Rotation for the representation of IG in Ewald Sphere\n",
    "    c = np.sqrt((k(E,scale))**2 + 4/a**2 + ((2/a)*k(E,scale)*np.sin(scale*Delta_theta(ee)/1000-scale*sample_tilt/1000) ) )\n",
    "    co = np.cos(scale*Delta_theta(ee)/1000 - scale*sample_tilt/1000)            \n",
    "    alph = np.arcsin ( 2 * co /(a*c)) \n",
    "    rot = - np.pi/2 + (0.001 * scale*Delta_theta(ee) + alph)\n",
    "    return rot\n",
    "    \n",
    "# CAUTION !! We have 2 occurence of the excitation error ! \n",
    "# ee is the excitation error defined by operator and linked to Delta_theta\n",
    "# s is the variable used to plot the curve of Ig !\n",
    "\n",
    "def Xrot(ee,sample_tilt,E,scale,xiG,s,t):\n",
    "    xrot = np.cos(rot(ee,sample_tilt,E,scale)) * s - np.sin(rot(ee,sample_tilt,E,scale))*1*I_G(xiG,s,t) \n",
    "    return xrot\n",
    "\n",
    "def Yrot(ee,sample_tilt,E,scale,xiG,s,t):\n",
    "    xrot = np.sin(rot(ee,sample_tilt,E,scale)) * s + np.cos(rot(ee,sample_tilt,E,scale))*1*I_G(xiG,s,t) \n",
    "    return xrot"
   ]
  },
  {
   "cell_type": "code",
   "execution_count": null,
   "metadata": {},
   "outputs": [],
   "source": [
    "E = 200\n",
    "scale = 1 # not yet implemented in this graph, so keep it to one\n",
    "ee = 0.05\n",
    "sample_tilt = thetaB(E)\n",
    "beam_tilt = Delta_theta(ee)\n",
    "\n",
    "\n",
    "\n",
    "xiG = 10\n",
    "t = 5\n",
    "\n",
    "\n",
    "\n",
    "es3 = figure(title=\"Ewald Sphere\", height=600, width=800,match_aspect=True)\n",
    "l0 = es3.line([0,0],[k(E,scale)/10,-1.2*k(E,scale)], line_width=1,color=\"black\")\n",
    "\n",
    "l1 = es3.line(k(E,scale)*np.cos(Ewald_angles(scale,beam_tilt)),k(E,scale)*np.sin(Ewald_angles(scale,beam_tilt)),\n",
    "             legend_label=\"Ewald Sphere\", line_width=2.5)\n",
    "\n",
    "l2 = es3.line(kix(E,scale,Delta_theta(ee)),kiy(E,scale,Delta_theta(ee)),\n",
    "             legend_label=\"incident beam\", line_width=2.5,color=\"red\")\n",
    "\n",
    "l3 = es3.line([0,ki_endx(E,scale,Delta_theta(ee)) + 2/a*np.cos(sample_tilt/1000)],\n",
    "             [0,ki_endy(E,scale,Delta_theta(ee)) + 2/a*np.sin(sample_tilt/1000)],\n",
    "             legend_label=\"diffracted beam\", line_width=2.5,color='#fee090')\n",
    "\n",
    "l4 = es3.line(Xrot(ee,sample_tilt,E,scale,xiG,ds,t) + ki_endx(E,scale,Delta_theta(ee)) + 2/a*np.cos(sample_tilt/1000),\n",
    "             Yrot(ee,sample_tilt,E,scale,xiG,ds,t) + ki_endy(E,scale,Delta_theta(ee)) + 2/a*np.sin(sample_tilt/1000),\n",
    "             line_width=2.5,color=\"orange\") #Ig curve rotated and positionned\n",
    "\n",
    "p3 = es3.circle(recip_x*np.cos(scale*sample_tilt*10**(-3)) + ki_endx(E,scale,Delta_theta(ee)) ,\n",
    "               recip_x*np.sin(scale*sample_tilt*10**(-3)) + ki_endy(E,scale,Delta_theta(ee)) ,\n",
    "               legend_label=\"reciprocal lattice\", line_width=3.5,color=\"green\")\n",
    "\n",
    "es3.legend.location = \"bottom_left\"\n",
    "#show(es)\n",
    "\n",
    "def update4(xiG = 10, t = 5, ee = 0.05):\n",
    "    l2.data_source.data['x'] = kix(E,scale,Delta_theta(ee))\n",
    "    l2.data_source.data['y'] = kiy(E,scale,Delta_theta(ee))\n",
    "    l3.data_source.data['x'] = [0,ki_endx(E,scale,Delta_theta(ee)) + 2/a*np.cos(sample_tilt/1000)]\n",
    "    l3.data_source.data['y'] = [0,ki_endy(E,scale,Delta_theta(ee)) + 2/a*np.sin(sample_tilt/1000)]\n",
    "    l4.data_source.data['x'] = Xrot(ee,sample_tilt,E,scale,xiG,ds,t) + ki_endx(E,scale,Delta_theta(ee)) + 2/a*np.cos(sample_tilt/1000)\n",
    "    l4.data_source.data['y'] = Yrot(ee,sample_tilt,E,scale,xiG,ds,t) + ki_endy(E,scale,Delta_theta(ee)) + 2/a*np.sin(sample_tilt/1000)\n",
    "    p3.data_source.data['x'] = recip_x*np.cos(scale*sample_tilt*10**(-3)) + ki_endx(E,scale,Delta_theta(ee))\n",
    "    p3.data_source.data['y'] = recip_x*np.sin(scale*sample_tilt*10**(-3)) + ki_endy(E,scale,Delta_theta(ee)) \n",
    "    push_notebook()\n",
    "\n",
    "   \n",
    "#es.legend.click_policy=\"hide\"    \n",
    "show(es3, notebook_handle=True)\n",
    "\n",
    "interact(update4, \\\n",
    "         xiG = widgets.IntSlider(min=10,max=200,value=10,description=\"xiG\"), \\\n",
    "       t = widgets.IntSlider(min = 1 , max = 220 ,value = 5,description=\"thickness\"),\\\n",
    "        ee = widgets.FloatSlider(min=-1.,max=1.,value=0.0,description=\"s (1/nm)\", step=0.01));\n",
    "\n"
   ]
  },
  {
   "cell_type": "markdown",
   "metadata": {},
   "source": [
    "In the previous representations of the Ewald sphere in this notebook, we used the center of the sphere as the origin of the reference system. This is the most straightforward definition. When doing this the diffraction pattern is moving when the beam is tited as the central beam is attached to the end of the incident beam. This is indeed what is observed in the TEM. However for representing the diffraction conditions, sketches in books usually fixe the central spot  $G=000$, as the center of the reference frame. By doing this, the center of the Ewald sphere moves around when the beam is tilted. "
   ]
  },
  {
   "cell_type": "markdown",
   "metadata": {},
   "source": [
    "## Ewald sphere and excitation error, keeping G= 000 fixed"
   ]
  },
  {
   "cell_type": "code",
   "execution_count": null,
   "metadata": {},
   "outputs": [],
   "source": [
    "# Same as before, just remove ki_endx(E,scale,Delta_theta(ee) ki_endy(E,scale,Delta_theta(ee) to each x,y coordinate\n",
    "\n",
    "E = 200\n",
    "scale = 2 # not yet implemented in this graph, so keep it to one\n",
    "ee = 0.05\n",
    "sample_tilt = thetaB(E)\n",
    "beam_tilt =  Delta_theta(ee)\n",
    "\n",
    "\n",
    "\n",
    "xiG = 10\n",
    "t = 5\n",
    "\n",
    "\n",
    "\n",
    "es3 = figure(title=\"Ewald Sphere\", height=600, width=800,match_aspect=True)\n",
    "l0 = es3.line([0,0],[1.2*k(E,scale),-0.1*k(E,scale)], line_width=1,color=\"black\")\n",
    "\n",
    "l1 = es3.line(k(E,scale)*np.cos(Ewald_angles(scale,Delta_theta(ee)))-ki_endx(E,scale,Delta_theta(ee)),\n",
    "              k(E,scale)*np.sin(Ewald_angles(scale,Delta_theta(ee)))-ki_endy(E,scale,Delta_theta(ee)),\n",
    "             legend_label=\"Ewald Sphere\", line_width=2.5)\n",
    "\n",
    "l2 = es3.line(kix(E,scale,Delta_theta(ee)) - ki_endx(E,scale,Delta_theta(ee)),\n",
    "              kiy(E,scale,Delta_theta(ee)) - ki_endy(E,scale,Delta_theta(ee)),\n",
    "             legend_label=\"incident beam\", line_width=2.5,color=\"red\")\n",
    "\n",
    "l3 = es3.line([0,ki_endx(E,scale,Delta_theta(ee)) + 2/a*np.cos(scale*sample_tilt/1000)] - ki_endx(E,scale,Delta_theta(ee)),\n",
    "             [0,ki_endy(E,scale,Delta_theta(ee)) + 2/a*np.sin(scale*sample_tilt/1000)] - ki_endy(E,scale,Delta_theta(ee)),\n",
    "             legend_label=\"diffracted beam\", line_width=2.5,color='#fee090')\n",
    "\n",
    "l4 = es3.line(scale *Xrot(ee,sample_tilt,E,scale,xiG,ds,t) + ki_endx(E,scale,Delta_theta(ee)) + \\\n",
    "              2/a*np.cos(scale*sample_tilt/1000) - ki_endx(E,scale,Delta_theta(ee)),\n",
    "             scale *Yrot(ee,sample_tilt,E,scale,xiG,ds,t) + ki_endy(E,scale,Delta_theta(ee)) + \\\n",
    "              2/a*np.sin(scale*sample_tilt/1000) - ki_endy(E,scale,Delta_theta(ee)),\n",
    "             line_width=2.5,color=\"orange\") #Ig curve rotated and positionned\n",
    "\n",
    "p3 = es3.circle(recip_x*np.cos(scale*sample_tilt*10**(-3)),\n",
    "               recip_x*np.sin(scale*sample_tilt*10**(-3)),\n",
    "               legend_label=\"reciprocal lattice\", line_width=3.5,color=\"green\")\n",
    "\n",
    "es3.legend.location = \"bottom_left\"\n",
    "#show(es)\n",
    "\n",
    "def update4(xiG = 10, t = 5, ee = 0.05, scale = 1):\n",
    "    l0.data_source.data['y'] = [1.0*k(E,scale),-0.1*k(E,scale)]\n",
    "    \n",
    "    l1.data_source.data['x'] = k(E,scale)*np.cos(Ewald_angles(scale,Delta_theta(ee)))-ki_endx(E,scale,Delta_theta(ee))\n",
    "    l1.data_source.data['y'] = k(E,scale)*np.sin(Ewald_angles(scale,Delta_theta(ee)))-ki_endy(E,scale,Delta_theta(ee))\n",
    "    \n",
    "    l2.data_source.data['x'] = kix(E,scale,Delta_theta(ee))-ki_endx(E,scale,Delta_theta(ee))\n",
    "    l2.data_source.data['y'] = kiy(E,scale,Delta_theta(ee))-ki_endy(E,scale,Delta_theta(ee))\n",
    "    \n",
    "    l3.data_source.data['x'] = [0,ki_endx(E,scale,Delta_theta(ee)) + 2/a*np.cos(scale*sample_tilt/1000)]-\\\n",
    "                                ki_endx(E,scale,Delta_theta(ee))\n",
    "    l3.data_source.data['y'] = [0,ki_endy(E,scale,Delta_theta(ee)) + 2/a*np.sin(scale*sample_tilt/1000)] -\\\n",
    "                                ki_endy(E,scale,Delta_theta(ee))\n",
    "    \n",
    "    l4.data_source.data['x'] = scale*Xrot(ee,sample_tilt,E,scale,xiG,ds,t) + ki_endx(E,scale,Delta_theta(ee)) + \\\n",
    "                               2/a*np.cos(scale*sample_tilt/1000)-ki_endx(E,scale,Delta_theta(ee))\n",
    "    l4.data_source.data['y'] = scale*Yrot(ee,sample_tilt,E,scale,xiG,ds,t) + ki_endy(E,scale,Delta_theta(ee)) + \\\n",
    "                               2/a*np.sin(scale*sample_tilt/1000) -  ki_endy(E,scale,Delta_theta(ee))\n",
    "   \n",
    "    p3.data_source.data['x'] = recip_x*np.cos(scale*sample_tilt*10**(-3)) + ki_endx(E,scale,Delta_theta(ee)) - \\\n",
    "                               ki_endx(E,scale,Delta_theta(ee))\n",
    "    p3.data_source.data['y'] = recip_x*np.sin(scale*sample_tilt*10**(-3)) + ki_endy(E,scale,Delta_theta(ee)) -\\\n",
    "                                ki_endy(E,scale,Delta_theta(ee))\n",
    "    push_notebook()\n",
    "\n",
    "   \n",
    "#es.legend.click_policy=\"hide\"    \n",
    "show(es3, notebook_handle=True)\n",
    "\n",
    "interact(update4, \\\n",
    "         xiG = widgets.IntSlider(min=10,max=200,value=10,description=\"xiG\"), \\\n",
    "       t = widgets.IntSlider(min = 1 , max = 220 ,value = 5,description=\"thickness\"),\\\n",
    "        ee = widgets.FloatSlider(min=-1.,max=1.,value=0.0,description=\"s (1/nm)\", step=0.01),\\\n",
    "        scale = widgets.IntSlider(min=1,max=10,value=1,description=\"scale\"));"
   ]
  },
  {
   "cell_type": "markdown",
   "metadata": {},
   "source": [
    "Notebook by Cécile Hébert (2020-2023).\n",
    "Except where otherwise noted, the content of this notebook is licensed under MIT licence."
   ]
  },
  {
   "cell_type": "code",
   "execution_count": null,
   "metadata": {},
   "outputs": [],
   "source": []
  }
 ],
 "metadata": {
  "hide_input": false,
  "kernelspec": {
   "display_name": "Python 3 (ipykernel)",
   "language": "python",
   "name": "python3"
  },
  "language_info": {
   "codemirror_mode": {
    "name": "ipython",
    "version": 3
   },
   "file_extension": ".py",
   "mimetype": "text/x-python",
   "name": "python",
   "nbconvert_exporter": "python",
   "pygments_lexer": "ipython3",
   "version": "3.11.5"
  }
 },
 "nbformat": 4,
 "nbformat_minor": 2
}
