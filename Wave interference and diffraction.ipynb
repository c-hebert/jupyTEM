{
 "cells": [
  {
   "cell_type": "markdown",
   "metadata": {},
   "source": [
    "# Wave Interference\n",
    "\n",
    "The plotted function is the superimposition of $n$ 2d-sine  functions centered in $(0,Y_i)$:\n",
    "$$f(x,y)=\\sin\\big(p\\cdot\\sqrt{x^2+(y-Y_i)^2}\\big)$$\n",
    "\n",
    "The parameters that can be changed are:\n",
    "\n",
    "-- $n$ the number of sources (start with 2)\n",
    "\n",
    "-- $d$ the distance between sources\n",
    "\n",
    "-- $p$ the periodicity. Higher periodicity means shorter wavelength. $p =2\\pi / \\lambda$. Note that in electron microscopy the usual convention is to define the wave vector as $k=1/\\lambda$. \n",
    "\n",
    "-- $f$ the field of view.\n",
    "\n",
    "One sees the directions of space where intereferences are constructive / destructive, with the angle between the outgoing beams increasing with decreasing $p$, and decreasing source spacing.\n",
    "\n",
    "## Hints for the use\n",
    "\n",
    "Start with $n=2$. \n",
    "\n",
    "Press on \"run interact\" to initiate the plotting after changing the parameters. \n",
    "\n",
    "With many sources, the intereference patterns close to the source is quite intricated. One needs to go to the far field (increase $f$ the field of view) to see the formation of the outgoing beams.\n",
    "\n",
    "With more sources (try up to 10 sources), the outgoing beams are getting thinner."
   ]
  },
  {
   "cell_type": "code",
   "execution_count": 5,
   "metadata": {},
   "outputs": [],
   "source": [
    "import matplotlib.pyplot as plt\n",
    "import numpy as np\n",
    "import matplotlib\n",
    "\n",
    "from ipywidgets import interact, interactive, fixed, interact_manual\n",
    "import ipywidgets as widgets\n",
    "matplotlib.rcParams['figure.figsize'] = (16,16)\n"
   ]
  },
  {
   "cell_type": "code",
   "execution_count": 6,
   "metadata": {},
   "outputs": [
    {
     "data": {
      "application/vnd.jupyter.widget-view+json": {
       "model_id": "4bbb0da57f5347d69bc85002e510a575",
       "version_major": 2,
       "version_minor": 0
      },
      "text/plain": [
       "interactive(children=(IntSlider(value=5, description='n', max=10, min=1), IntSlider(value=11, description='d',…"
      ]
     },
     "metadata": {},
     "output_type": "display_data"
    },
    {
     "data": {
      "text/plain": [
       "<function __main__.waveplot2d(n, d, p, f)>"
      ]
     },
     "execution_count": 6,
     "metadata": {},
     "output_type": "execute_result"
    }
   ],
   "source": [
    "# n is the number of sources\n",
    "# d distance between sources\n",
    "# p changes periodicity\n",
    "# f field of view\n",
    "\n",
    "def waveplot2d(n,d,p,f):\n",
    "    x=np.linspace(0,f,2001)\n",
    "    y=np.linspace(-f/2,f/2,2001)\n",
    "    X, Y = np.meshgrid(x, y) \n",
    "    c=np.linspace(-(n-1)*d/2,(n-1)*d/2,n)\n",
    "    c0=np.linspace(0,0,n)\n",
    "    print(c)\n",
    "    Z=0*X+0*Y\n",
    "    for i in c:\n",
    "        Zi=(np.sin(p*np.sqrt(X**2+(Y-i)**2)))**1\n",
    "        Z=Z+Zi\n",
    "    plt.figure()\n",
    "    cp=plt.contourf(X,Y,Z)\n",
    "    plt.plot(c0,c,'.',markersize=20,color='blue')\n",
    "    plt.axes().set_aspect('equal')\n",
    "    plt.colorbar(cp)\n",
    "    plt.set_cmap('coolwarm') \n",
    "    plt.show()\n",
    "    \n",
    "#waveplot2d(2,10,3)  \n",
    "\n",
    "interact_manual(waveplot2d,n=(1,10,1),d=(2,20,1),p=(1,5,1),f=(50,900,50))\n",
    "\n",
    "\n"
   ]
  }
 ],
 "metadata": {
  "hide_input": false,
  "kernelspec": {
   "display_name": "Python 3",
   "language": "python",
   "name": "python3"
  },
  "language_info": {
   "codemirror_mode": {
    "name": "ipython",
    "version": 3
   },
   "file_extension": ".py",
   "mimetype": "text/x-python",
   "name": "python",
   "nbconvert_exporter": "python",
   "pygments_lexer": "ipython3",
   "version": "3.7.3"
  }
 },
 "nbformat": 4,
 "nbformat_minor": 2
}
