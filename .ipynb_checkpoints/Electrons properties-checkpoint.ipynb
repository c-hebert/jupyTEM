{
 "cells": [
  {
   "cell_type": "markdown",
   "metadata": {},
   "source": [
    "# Calculation and plotting of some important quantities relative to the electron's properties in a conventional TEM\n",
    "\n",
    "A typical TEM works with acceleration voltages between 80 and 300 kV\n"
   ]
  },
  {
   "cell_type": "code",
   "execution_count": null,
   "metadata": {},
   "outputs": [],
   "source": [
    "import matplotlib\n",
    "import matplotlib.pyplot as plt\n",
    "import numpy as np\n",
    "from cycler import cycler\n",
    "matplotlib.rcParams['figure.figsize'] = (8,6)"
   ]
  },
  {
   "cell_type": "code",
   "execution_count": null,
   "metadata": {},
   "outputs": [],
   "source": [
    "# universal constants\n",
    "h=6.626*10**(-34) #plank's constant J.s\n",
    "me=9.109*10**(-31) #electron's mass kg (m_0)\n",
    "mecsquared=511 # electron's rest mass in keV (m_0*c^2)\n",
    "electron=1.602*10**(-19)# electron's charge"
   ]
  },
  {
   "cell_type": "markdown",
   "metadata": {},
   "source": [
    "## Wavelengths\n",
    "\n",
    "### Classical:\n",
    "$$\\lambda=\\frac{h}{\\sqrt{2 m_0 e E_0}}$$\n",
    "\n",
    "### Relativistic:\n",
    "$$\\lambda = \\frac{h}{\\sqrt{2 m_0 e E_0}} \\frac{1}{\\sqrt{1+\\frac{eE_0}{2m_0c^2}}}$$"
   ]
  },
  {
   "cell_type": "code",
   "execution_count": null,
   "metadata": {},
   "outputs": [],
   "source": [
    "#electron's wavelength in pm for an acceleration voltage  in kV (classical)\n",
    "def lambclass(Voltage):\n",
    "    l=10**12*h/np.sqrt(2*me*Voltage*1000*electron)\n",
    "    return l"
   ]
  },
  {
   "cell_type": "code",
   "execution_count": null,
   "metadata": {},
   "outputs": [],
   "source": [
    "#electron's wavelength in pm for an acceleration voltage  in kV  (relativistic)\n",
    "def lamb(Voltage):\n",
    "    l=10**12*h/np.sqrt(2*me*Voltage*1000*electron)*(1+Voltage/(2*mecsquared))**(-0.5)\n",
    "    return l"
   ]
  },
  {
   "cell_type": "code",
   "execution_count": null,
   "metadata": {},
   "outputs": [],
   "source": [
    "lamb(100)"
   ]
  },
  {
   "cell_type": "code",
   "execution_count": null,
   "metadata": {},
   "outputs": [],
   "source": [
    "HT = np.linspace(60,300,1000) # high tension range (kV)\n",
    "selHT=np.array([60.,80.,100.,120.,200.,300.]) # selected HT (kV)\n",
    "plt.plot(HT,lamb(HT),label=\"relativistic\",lw=3)\n",
    "plt.plot(selHT,lamb(selHT),'*',markersize=20,color='#377eb8')\n",
    "plt.plot(HT,lambclass(HT),label=\"classical\",lw=3)\n",
    "plt.xlabel('accelerating voltage (kV)')\n",
    "plt.ylabel(r'$\\lambda$ (pm)')\n",
    "plt.grid(True)\n",
    "plt.legend()\n",
    "plt.show()"
   ]
  },
  {
   "cell_type": "markdown",
   "metadata": {
    "collapsed": true
   },
   "source": [
    "## Electron's velocity compared to light's velocity (in vacuum)\n",
    "\n",
    "$$\\frac{v}{c} = \\sqrt{1-\\frac{1}{\\Big(1+\\frac{eE_0}{m_0c^2}\\big)^2}}$$"
   ]
  },
  {
   "cell_type": "code",
   "execution_count": null,
   "metadata": {},
   "outputs": [],
   "source": [
    "def voverc(Voltage):\n",
    "    f = Voltage/mecsquared\n",
    "    voc = np.sqrt(1-1/(1+f)**2)\n",
    "    return voc"
   ]
  },
  {
   "cell_type": "code",
   "execution_count": null,
   "metadata": {},
   "outputs": [],
   "source": [
    "HT = np.linspace(60,300,1000) # high tension range (kV)\n",
    "selHT=np.array([60.,80.,100.,120.,200.,300.]) # selected HT (kV)\n",
    "plt.plot(HT,voverc(HT),label=\"v/c\",lw=3)\n",
    "plt.xlabel('accelerating voltage (kV)')\n",
    "plt.ylabel(r'$v/c$ ')\n",
    "plt.grid(True)\n",
    "plt.legend()\n",
    "plt.show()"
   ]
  },
  {
   "cell_type": "code",
   "execution_count": null,
   "metadata": {},
   "outputs": [],
   "source": [
    "voverc(selHT)"
   ]
  },
  {
   "cell_type": "markdown",
   "metadata": {},
   "source": [
    "Notebook by Cécile Hébert (2020-2023).\n",
    "Except where otherwise noted, the content of this notebook is licensed under MIT licence."
   ]
  },
  {
   "cell_type": "code",
   "execution_count": null,
   "metadata": {},
   "outputs": [],
   "source": []
  }
 ],
 "metadata": {
  "hide_input": false,
  "kernelspec": {
   "display_name": "Python 3 (ipykernel)",
   "language": "python",
   "name": "python3"
  },
  "language_info": {
   "codemirror_mode": {
    "name": "ipython",
    "version": 3
   },
   "file_extension": ".py",
   "mimetype": "text/x-python",
   "name": "python",
   "nbconvert_exporter": "python",
   "pygments_lexer": "ipython3",
   "version": "3.11.5"
  }
 },
 "nbformat": 4,
 "nbformat_minor": 2
}
