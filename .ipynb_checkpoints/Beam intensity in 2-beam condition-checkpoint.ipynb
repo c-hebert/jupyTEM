{
 "cells": [
  {
   "cell_type": "markdown",
   "metadata": {},
   "source": [
    "# Beam intensity in 2-beam condition as a function of thickness\n",
    "\n",
    "$$I_g(t)=\\frac{1}{1+\\xi_g^2s^2}\\sin^2\\left[\\pi t \\sqrt{\\frac{1}{\\xi_g^2}+s^2}\\right]$$\n"
   ]
  },
  {
   "cell_type": "code",
   "execution_count": null,
   "metadata": {},
   "outputs": [],
   "source": [
    "#import matplotlib.pyplot as plt\n",
    "import numpy as np\n",
    "\n",
    "\n",
    "from ipywidgets import interact, interactive, fixed, interact_manual\n",
    "import ipywidgets as widgets\n",
    "#from IPython.display import HTML\n",
    "\n",
    "from bokeh.io import push_notebook, show, output_notebook\n",
    "from bokeh.plotting import figure\n",
    "output_notebook()\n",
    "\n"
   ]
  },
  {
   "cell_type": "code",
   "execution_count": null,
   "metadata": {},
   "outputs": [],
   "source": [
    "# universal constants\n",
    "h=6.626*10**(-34) #plank's constant J.s\n",
    "me=9.109*10**(-31) #electron's mass kg (m_0)\n",
    "mecsquared=511 # electron's rest mass in keV (m_0*c^2)\n",
    "electron=1.602*10**(-19)# electron's charge\n",
    "\n",
    "#electron's wavelength in nm for an acceleration voltage  in kV  (relativistic)\n",
    "def lamb(Voltage):\n",
    "    l=10**9*h/np.sqrt(2*me*Voltage*1000*electron)*(1+Voltage/(2*mecsquared))**(-0.5)\n",
    "    return l\n",
    "\n",
    "def k(E,scale):\n",
    "    k = 1/(lamb(E)*scale)\n",
    "    return k\n",
    "\n",
    "# Crystal lattice parameter a\n",
    "# as an example 001 orientation fcc first G is 200 (very typical case)\n",
    "# We use -2G, -G, 0 G & 2G, 5 beams\n",
    "\n",
    "Gs = np.array([-3.0, -2.0, -1.0, 0.0, 1.0, 2.0, 3.0])\n",
    "a = 0.25 # 0.25nm\n",
    "recip_x = (2/a)*Gs\n",
    "\n",
    "#Bragg angle for the 200 spot as a function of energy\n",
    "def thetaB(E):\n",
    "    tB = lamb(E)/a\n",
    "    return tB"
   ]
  },
  {
   "cell_type": "markdown",
   "metadata": {},
   "source": [
    "We stick to the case of a crystal with lattice parameter a=2.5 Angstrom, first non forbidden G is 200.\n",
    "\n",
    "We will concentrate on the central beam (000) and $G_{200}$ which is the first diffracted beam  and consider a 2-beam condidtion.\n",
    "\n",
    "We first need the Bragg angle (in radians) for $G_{200}$. \n",
    "$$d_{200}=a/2$$. \n",
    "$$\\theta_B(E)=\\frac{\\lambda}{2 d_{hkl}} = \\frac{\\lambda}{2 d_{200}}  = \\frac{\\lambda(E)}{a}$$\n",
    "\n",
    "Then we have to tilt the sample by $\\theta_B$ and the beam by $2 \\theta_B$"
   ]
  },
  {
   "cell_type": "code",
   "execution_count": null,
   "metadata": {},
   "outputs": [],
   "source": [
    "#check (should be 2.5 pm)\n",
    "thetaB(200)"
   ]
  },
  {
   "cell_type": "code",
   "execution_count": null,
   "metadata": {},
   "outputs": [],
   "source": [
    "# phase contrast transfer function \n",
    "# u reciprocal length\n",
    "# deltaf: defocus\n",
    "# cs:spherical aberration\n",
    "# lamb: wavelength\n",
    "def pctf(u,deltaf,cs,lamb):\n",
    "    chi=np.pi*deltaf*lamb*u**2+0.5*np.pi*cs*lamb**3*u**4\n",
    "    tf=np.sin(chi)\n",
    "    return tf"
   ]
  },
  {
   "cell_type": "code",
   "execution_count": null,
   "metadata": {},
   "outputs": [],
   "source": [
    "# phase contrast transfer function squared (to compare with diffractogram)\n",
    "\n",
    "def pctfsq(u,deltaf,cs,lamb):\n",
    "    chi=np.pi*deltaf*lamb*u**2+0.5*np.pi*cs*lamb**3*u**4\n",
    "    tf=(np.sin(chi))**2\n",
    "    return tf"
   ]
  },
  {
   "cell_type": "code",
   "execution_count": null,
   "metadata": {},
   "outputs": [],
   "source": [
    "# 2-d PCTF. Only interesting whn astigmatism is present\n",
    "def pctf2d(ux,uy,deltaf,astig,cs,lamb):\n",
    "    chi=np.pi*(deltaf+astig/2)*lamb*(ux**2)+np.pi*(deltaf-astig/2)*lamb*(uy**2)+0.5*np.pi*cs*lamb**3*(ux**2+uy**2)**2\n",
    "    tf=np.sin(chi)\n",
    "    return tf"
   ]
  },
  {
   "cell_type": "markdown",
   "metadata": {},
   "source": [
    "## Temporal envelope\n",
    "\n",
    "As defined in the book by John Spence\n",
    "\n",
    "$$E(u)=\\exp({-\\frac{(\\pi\\Delta\\lambda u^2)^2}{16 \\ln(2)}})$$\n",
    "with\n",
    "$$\\Delta = C_c\\frac{\\Delta E}{E_0}$$\n",
    "$\\Delta E$ energy spread\n",
    "\n",
    "$E_0$, incident energy"
   ]
  },
  {
   "cell_type": "code",
   "execution_count": null,
   "metadata": {},
   "outputs": [],
   "source": [
    "# temporal envelope, as defined in Spence book\n",
    "def temporal_envelope(Energy,u,cc,Espread):\n",
    "    lam=lamb(Energy)\n",
    "    delta=cc*Espread/(1000*Energy)\n",
    "    te=np.exp(-(np.pi*delta*lam*u**2)**2/(16*np.log(2)))\n",
    "    #te=np.exp(-(np.pi*delta*lam*u**2)**2/(4))\n",
    "    return te"
   ]
  },
  {
   "cell_type": "markdown",
   "metadata": {},
   "source": [
    "Scherzer's defocus:\n",
    "$$\\Delta f_S=-\\sqrt{4*Cs*\\lambda/3}$$"
   ]
  },
  {
   "cell_type": "code",
   "execution_count": null,
   "metadata": {},
   "outputs": [],
   "source": [
    "def scherzer(cs,Energy):\n",
    "    lam=lamb(Energy)\n",
    "    sch=-(4*cs*10**(-6)*lam/3)**(0.5)\n",
    "    return sch"
   ]
  },
  {
   "cell_type": "code",
   "execution_count": null,
   "metadata": {},
   "outputs": [],
   "source": [
    "# Check. Should be -63 nm\n",
    "scherzer(1000,200)"
   ]
  },
  {
   "cell_type": "code",
   "execution_count": null,
   "metadata": {},
   "outputs": [],
   "source": [
    "# Interactive plot of the phase contrast transfer function\n",
    "\n",
    "\n",
    "u = np.linspace(0,10,2000)\n",
    "Energy0=200 #kV\n",
    "deltaf0=-63 #nm\n",
    "cs0=1200 #microns\n",
    "cc0=1.2 #mm\n",
    "Espread0=1.6\n",
    "\n",
    "t =temporal_envelope(Energy0,10**9*u,cc0*10**(-3),Espread0)*pctf(10**9*u,deltaf0*10**(-9),cs0*10**(-6),lamb(Energy0))\n",
    "e = temporal_envelope(Energy0,10**9*u,cc0*10**(-3),Espread0)\n",
    "\n",
    "p = figure(title=\"Phase contrast transfer function\", plot_height=500, plot_width=950,y_range=(-1.1,1.1)) \n",
    "p.xaxis.axis_label = 'u (1/nm)'\n",
    "p.yaxis.axis_label = 'PCTF'\n",
    "\n",
    "\n",
    "r1 = p.line(u,t,legend=\"PCTF\", line_width=2.5)\n",
    "r2 = p.line(u,e,legend=\"Envelope\",line_width=2.5,color=\"orange\")\n",
    "#show(p)\n",
    "\n",
    "def update(deltaf=-63, Energy=200, cs=1200,cc=1,Espread=1):\n",
    "    r1.data_source.data['y']=temporal_envelope(Energy,10**9*u,cc*10**(-3),Espread)*\\\n",
    "                            pctf(10**9*u,deltaf*10**(-9),cs*10**(-6),lamb(Energy))\n",
    "    r2.data_source.data['y']=temporal_envelope(Energy,10**9*u,cc*10**(-3),Espread)\n",
    "    push_notebook()\n",
    "    \n",
    "p.legend.click_policy=\"hide\"    \n",
    "show(p, notebook_handle=True)\n",
    "\n",
    "interact(update, \\\n",
    "         deltaf=widgets.IntSlider(min=-100,max=100,value=deltaf0,description=\"defocus (nm)\"), \\\n",
    "         Energy=widgets.IntSlider(min=60,max=300,value=Energy0,description=\"Energy (kV)\"), \\\n",
    "         cs=widgets.IntSlider(min=-100,max=1500, value=cs0,description=\"Cs (microns)\"), \\\n",
    "         cc=widgets.FloatSlider(min=0,max=3, value=cc0,description=\"Cc(mm)\"), \\\n",
    "         Espread=widgets.FloatSlider(min=0,max=8,value=Espread0,description=\"E spread (eV)\"));\n",
    "\n",
    "\n"
   ]
  },
  {
   "cell_type": "code",
   "execution_count": null,
   "metadata": {},
   "outputs": [],
   "source": [
    "# Interactive plot of the PCTF squared\n",
    "\n",
    "u = np.linspace(0,10,2000)\n",
    "Energy0=200 #kV\n",
    "deltaf0=-63 #nm\n",
    "cs0=1200 #microns\n",
    "cc0=1.2 #mm\n",
    "Espread0=1.6\n",
    "\n",
    "t =temporal_envelope(Energy0,10**9*u,cc0*10**(-3),Espread0)*pctfsq(10**9*u,deltaf0*10**(-9),cs0*10**(-6),lamb(Energy0))\n",
    "e = temporal_envelope(Energy0,10**9*u,cc0*10**(-3),Espread0)\n",
    "\n",
    "p = figure(title=\"Phase contrast transfer function\", plot_height=500, plot_width=1000,y_range=(-0.1,1.1)) \n",
    "p.xaxis.axis_label = 'u (1/nm)'\n",
    "p.yaxis.axis_label = 'PCTF'\n",
    "\n",
    "\n",
    "r1 = p.line(u,t,legend=\"PCTF\", line_width=2.5)\n",
    "r2 = p.line(u,e,legend=\"Envelope\",line_width=2.5,color=\"orange\")\n",
    "#show(p)\n",
    "\n",
    "def update(deltaf=-63, Energy=200, cs=1200,cc=1,Espread=1):\n",
    "    r1.data_source.data['y']=temporal_envelope(Energy,10**9*u,cc*10**(-3),Espread)*\\\n",
    "                            pctfsq(10**9*u,deltaf*10**(-9),cs*10**(-6),lamb(Energy))\n",
    "    r2.data_source.data['y']=temporal_envelope(Energy,10**9*u,cc*10**(-3),Espread)\n",
    "    push_notebook()\n",
    "    \n",
    "p.legend.click_policy=\"hide\"    \n",
    "show(p, notebook_handle=True)\n",
    "\n",
    "interact(update, \\\n",
    "         deltaf=widgets.IntSlider(min=-100,max=100,value=-63,description=\"defocus (nm)\"), \\\n",
    "         Energy=widgets.IntSlider(min=60,max=300,value=200,description=\"Energy (kV)\"), \\\n",
    "         cs=widgets.IntSlider(min=-100,max=1500, value=1200,description=\"Cs (microns)\"), \\\n",
    "         cc=widgets.FloatSlider(min=0,max=3, value=1.2,description=\"Cc(mm)\"), \\\n",
    "         Espread=widgets.FloatSlider(min=0,max=8,value=1.6,description=\"E spread (eV)\"));"
   ]
  },
  {
   "cell_type": "code",
   "execution_count": null,
   "metadata": {},
   "outputs": [],
   "source": [
    "from matplotlib.cm  import get_cmap\n",
    "from matplotlib.colors  import rgb2hex\n",
    "\n",
    "mycmap = get_cmap('seismic', 256)    # PiYG\n",
    "\n",
    "mycolor=[]\n",
    "\n",
    "for i in range(mycmap.N):\n",
    "    rgb = mycmap(i)[:3] # will return rgba, we take only first 3 so we get rgb\n",
    "    mycolor.append(rgb2hex(rgb))\n",
    "    "
   ]
  },
  {
   "cell_type": "code",
   "execution_count": null,
   "metadata": {},
   "outputs": [],
   "source": [
    "#from pylab import *\n",
    "from bokeh.models import LinearColorMapper, ColorBar\n",
    "from bokeh.models import CustomJS, Slider\n",
    "from bokeh.models import ColumnDataSource,FixedTicker\n",
    "from bokeh.models import CustomJS, Slider\n",
    "from bokeh.layouts import row, column\n",
    "\n",
    "ux = np.linspace(-7, 7, 1001)\n",
    "uy = np.linspace(-7, 7, 1001)\n",
    "uxx, uyy = np.meshgrid(ux, uy)\n",
    "uu = np.sqrt(uxx**2 + uyy**2)\n",
    "\n",
    "Energy0=200 #kV\n",
    "deltaf0=-63 #nm\n",
    "cs0=1200 #microns\n",
    "astig0=0\n",
    "cc0=1.2 #mm\n",
    "Espread0=1.6 # eV\n",
    "\n",
    "t = pctf2d(uxx*10**9,uyy*10**9,deltaf0*10**(-9),astig0*10**(-9),cs0*10**(-6), lamb(Energy0))*\\\n",
    "    temporal_envelope(Energy0,10**9*uu,cc0*10**(-3),Espread0)\n",
    "\n",
    "p = figure(x_range=(-10,10),y_range=(-10,10),plot_height=600, plot_width=600)\n",
    "color_mapper = LinearColorMapper(palette=\"RdBu11\", low=-1, high=1)\n",
    "i1 = p.image(image=[t], x=-10, y=-10, dw=20, dh=20,  palette=mycolor)\n",
    "color_bar = ColorBar(color_mapper=color_mapper, label_standoff=12, border_line_color=None, location=(0,0))\n",
    "\n",
    "def update(deltaf=-63, astig=0, cs=1200,cc=1.2, Energy=200,Espread=1.6):\n",
    "    i1.data_source.data['image'] = \\\n",
    "    [pctf2d(uxx*10**9,uyy*10**9,deltaf*10**(-9),astig*10**(-9),cs*10**(-6), lamb(Energy))*\\\n",
    "    temporal_envelope(Energy,10**9*uu,cc*10**(-3),Espread)]\n",
    "    push_notebook()\n",
    "\n",
    "show(p, notebook_handle=True)\n",
    "\n",
    "interact(update, \\\n",
    "         deltaf=widgets.IntSlider(min=-100,max=100,value=-63,description=\"defocus (nm)\"), \\\n",
    "         Energy=widgets.IntSlider(min=60,max=300,value=200,description=\"Energy (kV)\"), \\\n",
    "         cs=widgets.IntSlider(min=-100,max=1500, value=1200,description=\"Cs (microns)\"), \\\n",
    "         cc=widgets.FloatSlider(min=0,max=3, value=1.2,description=\"Cc(mm)\"), \\\n",
    "         Espread=widgets.FloatSlider(min=0,max=8,value=1.6,description=\"E spread (eV)\"),\\\n",
    "         astig=widgets.FloatSlider(min=0,max=100,value=0,description=\"Astigmatism (microns)\"));\n",
    "\n",
    "\n",
    "#interact(update, deltaf0=(-100,100), astig0 = (0,100), Energy0 = (60,300), cs = (-100,1500));\n"
   ]
  },
  {
   "cell_type": "code",
   "execution_count": null,
   "metadata": {},
   "outputs": [],
   "source": []
  },
  {
   "cell_type": "code",
   "execution_count": null,
   "metadata": {},
   "outputs": [],
   "source": []
  }
 ],
 "metadata": {
  "hide_input": false,
  "kernelspec": {
   "display_name": "Python 3 (ipykernel)",
   "language": "python",
   "name": "python3"
  },
  "language_info": {
   "codemirror_mode": {
    "name": "ipython",
    "version": 3
   },
   "file_extension": ".py",
   "mimetype": "text/x-python",
   "name": "python",
   "nbconvert_exporter": "python",
   "pygments_lexer": "ipython3",
   "version": "3.11.5"
  }
 },
 "nbformat": 4,
 "nbformat_minor": 2
}
