{
 "cells": [
  {
   "cell_type": "markdown",
   "metadata": {},
   "source": [
    "# Drude Model\n",
    "\n",
    "Plots the dielectric function and loss function in the Drude model"
   ]
  },
  {
   "cell_type": "code",
   "execution_count": null,
   "metadata": {},
   "outputs": [],
   "source": [
    "import matplotlib\n",
    "import matplotlib.pyplot as plt\n",
    "import numpy as np\n",
    "#from cycler import cycler\n",
    "matplotlib.rcParams['figure.figsize'] = (8,6)\n"
   ]
  },
  {
   "cell_type": "code",
   "execution_count": null,
   "metadata": {},
   "outputs": [],
   "source": [
    "import numpy as np\n",
    "\n",
    "from ipywidgets import interact, interactive, fixed, interact_manual\n",
    "import ipywidgets as widgets\n",
    "\n",
    "from bokeh.io import push_notebook, show, output_notebook\n",
    "from bokeh.plotting import figure\n",
    "output_notebook()"
   ]
  },
  {
   "cell_type": "markdown",
   "metadata": {},
   "source": [
    "$\\epsilon_1$,  $\\epsilon_2$ and loss function\n",
    "\n",
    "$$\\epsilon_1 = 1-\\frac{\\omega_p^2}{\\omega^2+\\Gamma^2}$$\n",
    "\n",
    "$$\\epsilon_2 = \\omega^2_p\\frac{\\Gamma/\\omega}{\\omega^2+\\Gamma^2}$$\n",
    "\n",
    "$$\\Im(-1/\\epsilon)=\\frac{\\epsilon_2}{\\epsilon_1^2+\\epsilon_2^2}$$"
   ]
  },
  {
   "cell_type": "code",
   "execution_count": null,
   "metadata": {},
   "outputs": [],
   "source": [
    "def eps1(omegap,gamma,omega):\n",
    "    eps1 = 1-omegap**2/(omega**2+gamma**2)\n",
    "    return eps1\n",
    "\n",
    "def eps2(omegap,gamma,omega):\n",
    "    eps2 = omegap**2*gamma/omega/(omega**2+gamma**2)\n",
    "    return eps2\n",
    "\n",
    "def lossfunction(omegap,gamma,omega):\n",
    "    lf = eps2(omegap,gamma,omega)/(eps1(omegap,gamma,omega)**2+eps2(omegap,gamma,omega)**2)\n",
    "    return lf"
   ]
  },
  {
   "cell_type": "code",
   "execution_count": null,
   "metadata": {},
   "outputs": [],
   "source": [
    "omegas = np.linspace(5,50,1000) \n",
    "\n",
    "omegap = 20\n",
    "gamma = 3\n",
    "\n",
    "\n",
    "omegap0 = 20\n",
    "gamma0 = 3\n",
    "\n",
    "ep1 = eps1(omegap,gamma,omegas)\n",
    "ep2 = eps2(omegap,gamma,omegas)\n",
    "lf = lossfunction(omegap,gamma,omegas)\n",
    "\n",
    "p = figure(title=\"dielectric and loss functions\", height=500, width=750) \n",
    "p.xaxis.axis_label = 'omega'\n",
    "p.yaxis.axis_label = ''\n",
    "\n",
    "l1 = p.line(omegas,ep1,legend_label=\"epsilon 1\", line_width=2.5)\n",
    "l2 = p.line(omegas,ep2,legend_label=\"epsilon2\",line_width=2.5,color=\"orange\")\n",
    "l3 = p.line(omegas,lf,legend_label=\"loss function\",line_width=2.5,color=\"red\")\n",
    "\n",
    "#show(p)\n",
    "\n",
    "def update(omegap=20, gamma=3):\n",
    "    l1.data_source.data['y']=eps1(omegap,gamma,omegas)\n",
    "    l2.data_source.data['y']=eps2(omegap,gamma,omegas)\n",
    "    l3.data_source.data['y']=lossfunction(omegap,gamma,omegas)\n",
    "    push_notebook()\n",
    "    \n",
    "p.legend.click_policy=\"hide\"    \n",
    "show(p, notebook_handle=True)\n",
    "\n",
    "interact(update, \\\n",
    "         omegap=widgets.IntSlider(min=3,max=40,value=omegap0,description=\"omega_p\"), \\\n",
    "         gamma=widgets.IntSlider(min=1,max=10,value=gamma0,description=\"gamma\"));"
   ]
  },
  {
   "cell_type": "code",
   "execution_count": null,
   "metadata": {},
   "outputs": [],
   "source": []
  }
 ],
 "metadata": {
  "hide_input": false,
  "kernelspec": {
   "display_name": "Python 3 (ipykernel)",
   "language": "python",
   "name": "python3"
  },
  "language_info": {
   "codemirror_mode": {
    "name": "ipython",
    "version": 3
   },
   "file_extension": ".py",
   "mimetype": "text/x-python",
   "name": "python",
   "nbconvert_exporter": "python",
   "pygments_lexer": "ipython3",
   "version": "3.11.5"
  }
 },
 "nbformat": 4,
 "nbformat_minor": 2
}
